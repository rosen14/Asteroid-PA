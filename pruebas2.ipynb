{
 "cells": [
  {
   "cell_type": "code",
   "execution_count": 1,
   "metadata": {
    "dotnet_interactive": {
     "language": "fsharp"
    },
    "polyglot_notebook": {
     "kernelName": "fsharp"
    }
   },
   "outputs": [],
   "source": [
    "type Size =\n",
    "    | Large\n",
    "    | Medium\n",
    "    | Small\n",
    "    \n",
    "type Lives =\n",
    "    | Three\n",
    "    | Two\n",
    "    | One\n",
    "\n",
    "let nextLives (life: Lives) =\n",
    "    match life with\n",
    "    | Three -> Two\n",
    "    | Two -> One\n",
    "    \n",
    "type Ship = {\n",
    "        Pos: float*float\n",
    "        Vel: float*float\n",
    "        Ang: float\n",
    "        Lives: Lives\n",
    "        Size: float    // el radio\n",
    "    }\n",
    "\n",
    "type Asteroid = {\n",
    "    Pos: float*float\n",
    "    Vel: float*float\n",
    "    Size: Size\n",
    "    }\n",
    "\n",
    "type Bullet = {\n",
    "    Pos: float*float\n",
    "    Ang: float\n",
    "    Range: float\n",
    "}\n",
    "\n",
    "type Dir =\n",
    "    | Left\n",
    "    | Right\n",
    "\n",
    "type Saucer = {\n",
    "    Pos: float*float\n",
    "    Dir: Dir\n",
    "    Size: float\n",
    "}\n",
    "\n",
    "type Rotation =\n",
    "    | Positive\n",
    "    | Negative\n",
    "    | Zero\n",
    "\n",
    "type Input = {\n",
    "    Thrust: bool\n",
    "    Shoot: bool\n",
    "    Rot: Rotation\n",
    "}\n",
    "\n",
    "type Game = {\n",
    "    Ship: Ship\n",
    "    Asteroids: Asteroid list\n",
    "    Bullets: Bullet list\n",
    "    Saucer: Saucer Option\n",
    "    Score: int\n",
    "    Lives: Lives\n",
    "}\n",
    "\n",
    "type Gamestate =\n",
    "    | Playing of Game\n",
    "    | Gameover\n",
    "\n",
    "let fps = 24\n",
    "let aspect_ratio = 1.5\n",
    "let rand = Random()   // inicializo instancia de Random()\n",
    "let maxAsteroidVel = 20."
   ]
  },
  {
   "cell_type": "code",
   "execution_count": 2,
   "metadata": {
    "dotnet_interactive": {
     "language": "fsharp"
    },
    "polyglot_notebook": {
     "kernelName": "fsharp"
    }
   },
   "outputs": [],
   "source": [
    "let sizeMap (size: Size) = \n",
    "    match size with\n",
    "    | Large -> 0.04\n",
    "    | Medium -> 0.02\n",
    "    | Small -> 0.01\n",
    "\n",
    "let min_abs x y = \n",
    "    min (abs x) (abs y)\n",
    "\n",
    "let distance (pos1:float*float) (pos2:float*float) = \n",
    "    let dx1 = fst pos1 - fst pos2\n",
    "    let dy1 = snd pos1 - snd pos2\n",
    "\n",
    "    let dx2 = min_abs dx1 (aspect_ratio - dx1)\n",
    "    let dy2 = min_abs dy1 (1. - dy1)\n",
    "    Math.Sqrt(dx2 ** 2 + dy2 ** 2) \n",
    "\n",
    "let cartesianToPolar (vec: float*float) =\n",
    "    let (x, y) = vec                               \n",
    "    let r = Math.Sqrt(x**2 + y**2)\n",
    "    let theta = Math.PI/2.0 - Math.Atan2 (y, x) // REVISAR!\n",
    "    r, theta\n",
    "\n",
    "let polarToCartesian (r: float) (theta: float) =\n",
    "    let x = r * Math.Cos(theta)\n",
    "    let y = r * Math.Sin(theta)\n",
    "    (x, y)\n",
    "\n",
    "let checkCollisionShipAsteroid (ship: Ship) (asteroid: Asteroid) = \n",
    "    // Devuelve verdadero si hay superposición entre la nave y un asteroide\n",
    "    let shipAstDistance = distance ship.Pos asteroid.Pos\n",
    "    let radiiSum = sizeMap asteroid.Size + ship.Size\n",
    "    shipAstDistance < radiiSum\n",
    "\n",
    "let checkCollisionShipBullet (ship: Ship) (bullet: Bullet) =\n",
    "    // Devuelve verdadero si hay superposición entre la nave y una bala\n",
    "    let shipBulletDistance = distance bullet.Pos ship.Pos\n",
    "    shipBulletDistance < ship.Size //la bala se supone puntual\n",
    "\n",
    "let checkCollisionBulletAsteroid (bullet: Bullet) (asteroid: Asteroid) =\n",
    "    let bulletAsteroidDistance = distance bullet.Pos asteroid.Pos\n",
    "    bulletAsteroidDistance < sizeMap asteroid.Size \n",
    "\n",
    "let isBullDestroyed (bull: Bullet) (asts: Asteroid List) =\n",
    "    // true cuando bull es destruída por contacto con algún asteroide\n",
    "    let collisions =\n",
    "        asts\n",
    "        |> List.filter (fun x -> checkCollisionBulletAsteroid bull x)\n",
    "    not (collisions = [])\n",
    "\n",
    "let isAstDestroyed (bulls: Bullet List) (ast: Asteroid) =\n",
    "    // true cuando asteroide es destruido por contacto con alguna bala\n",
    "    let collisions =\n",
    "        bulls\n",
    "        |> List.filter (fun x -> checkCollisionBulletAsteroid x ast)\n",
    "    not (collisions = [])\n",
    "\n",
    "let astSplit (ast: Asteroid) = \n",
    "    let spawn2RandAsts (pos: float*float) (size: Size) =\n",
    "\n",
    "        let randVel () : float*float=\n",
    "            let r = rand.NextDouble() * maxAsteroidVel\n",
    "            let ang = float (rand.Next(16)) * Math.PI/8.\n",
    "            polarToCartesian r ang\n",
    "\n",
    "        let vel1 = randVel ()\n",
    "        let vel2 = randVel ()\n",
    "        let randAsts : Asteroid List = [{Pos = pos; Vel = vel1; Size = size};\n",
    "                                        {Pos = pos; Vel = vel2; Size = size}]\n",
    "        randAsts\n",
    "\n",
    "    match ast.Size with\n",
    "    | Large -> spawn2RandAsts ast.Pos Medium\n",
    "    | Medium -> spawn2RandAsts ast.Pos Small \n",
    "    | Small -> []"
   ]
  },
  {
   "cell_type": "code",
   "execution_count": 3,
   "metadata": {
    "dotnet_interactive": {
     "language": "fsharp"
    },
    "polyglot_notebook": {
     "kernelName": "fsharp"
    }
   },
   "outputs": [],
   "source": [
    "let bulletsVelocity = 0.1\n",
    "let maxBullRange = 20\n",
    "\n",
    "let trueModulo (x: float) (modulo: float) =\n",
    "    // Esta función hace que los objetos que traspasan un borde la pantalla regresen por otro\n",
    "    let y = x % modulo\n",
    "    match y with\n",
    "    | _ when y < 0.0 -> y + modulo\n",
    "    | _ -> y\n",
    "\n",
    "let moveBullet (bullet: Bullet) = \n",
    "    let Vx = -bulletsVelocity*Math.Cos(bullet.Ang)\n",
    "    let Vy = -bulletsVelocity*Math.Sin(bullet.Ang)\n",
    "\n",
    "    let newPosX = trueModulo ((fst bullet.Pos) + Vx/(float fps)) (aspect_ratio)\n",
    "    let newPosY = trueModulo ((snd bullet.Pos) + Vy/(float fps)) (1.0)\n",
    "    let newPosition = (newPosX, newPosY)\n",
    "    \n",
    "    let newRange = bullet.Range + bulletsVelocity/(float fps)\n",
    "\n",
    "    let newBullet = \n",
    "        { bullet with\n",
    "            Pos = newPosition\n",
    "            Range = newRange\n",
    "        }\n",
    "    newBullet\n",
    "\n",
    "let moveAndClearBullets (bullets: List<Bullet>) = \n",
    "    let maxBullRange = 50\n",
    "    bullets\n",
    "    |> List.map (fun b -> moveBullet b) // Actualiza la posición de las balas y contabiliza su recorrido\n",
    "    |> List.filter (fun b -> b.Range <= maxBullRange) // Elimina las balas cuyo recorrido supera el máximo establecido\n"
   ]
  },
  {
   "cell_type": "code",
   "execution_count": 4,
   "metadata": {
    "dotnet_interactive": {
     "language": "fsharp"
    },
    "polyglot_notebook": {
     "kernelName": "fsharp"
    }
   },
   "outputs": [],
   "source": [
    "// ------------------------------------\n",
    "// creo que en el juego cuando los objetos se van de la pantalla, aparecen partidos en los dos extremos. \n",
    "// CHEQUEAR\n",
    "// ------------------------------------\n",
    "\n",
    "let shiftGeneral (pos: float*float) (vel: float*float) =\n",
    "    let newPosX = trueModulo (fst pos + fst vel) aspect_ratio\n",
    "    let newPosY = trueModulo (snd pos + snd vel) 1.0\n",
    "    let newPosition = (newPosX, newPosY)\n",
    "    newPosition\n",
    "\n",
    "let newPosAsteroid (asteroid: Asteroid) =\n",
    "    // Función que actualiza la posición de los asteroides\n",
    "    // A los módulos se les adiciona el tamaño del objeto para que la reaparicion ocurra cuando el objeto deja de visualizarse en la pantalla\n",
    "    shiftGeneral asteroid.Pos asteroid.Vel\n",
    "\n",
    "let newPosShip (ship: Ship) =\n",
    "    shiftGeneral ship.Pos ship.Vel"
   ]
  },
  {
   "cell_type": "code",
   "execution_count": 5,
   "metadata": {
    "dotnet_interactive": {
     "language": "fsharp"
    },
    "polyglot_notebook": {
     "kernelName": "fsharp"
    }
   },
   "outputs": [],
   "source": [
    "let startGame (game: Game) =\n",
    "    // Reestablece el estado de la nave en el juego\n",
    "    let newShip =\n",
    "        { game.Ship with\n",
    "            Pos = (0.5, aspect_ratio/2.0)\n",
    "            Ang = 0.0\n",
    "            Vel = (0.0, 0.0)\n",
    "        }\n",
    "    let newGame = Playing {   \n",
    "                            Ship = newShip\n",
    "                            Asteroids = []\n",
    "                            Bullets = []\n",
    "                            Saucer = None\n",
    "                            Score = 0\n",
    "                            Lives = Three\n",
    "                            }\n",
    "    newGame\n"
   ]
  },
  {
   "cell_type": "code",
   "execution_count": 6,
   "metadata": {
    "dotnet_interactive": {
     "language": "fsharp"
    },
    "polyglot_notebook": {
     "kernelName": "fsharp"
    }
   },
   "outputs": [],
   "source": [
    "let shootBullet (ship: Ship) (bullets: List<Bullet>) (input: Input) = \n",
    "    // Agrega una bala a la lista de balas cuando se ejecuta la acción de disparar\n",
    "    let fire (ship: Ship) (bullets: List<Bullet>) =\n",
    "        let newBullet = \n",
    "            {\n",
    "                Pos = (fst ship.Pos + ship.Size*Math.Cos(ship.Ang),\n",
    "                       snd ship.Pos + ship.Size*Math.Sin(ship.Ang))\n",
    "                Ang = ship.Ang\n",
    "                Range = 0.0\n",
    "            }\n",
    "        bullets @ [newBullet]\n",
    "    \n",
    "    match input.Shoot with\n",
    "    | true -> fire ship bullets\n",
    "    | false -> bullets\n"
   ]
  },
  {
   "cell_type": "code",
   "execution_count": 7,
   "metadata": {
    "dotnet_interactive": {
     "language": "fsharp"
    },
    "polyglot_notebook": {
     "kernelName": "fsharp"
    }
   },
   "outputs": [],
   "source": [
    "let deltaAngle (input: Input) = \n",
    "    // Modifica la orientación de la nave en pi/8 si el input así lo indica\n",
    "    let angQuantum = Math.PI/8.0\n",
    "    let newAngle (rotation: Rotation) =\n",
    "        match rotation with\n",
    "        | Positive -> angQuantum\n",
    "        | Negative -> -angQuantum\n",
    "        | Zero -> 0.0\n",
    "    newAngle input.Rot"
   ]
  },
  {
   "cell_type": "code",
   "execution_count": 8,
   "metadata": {
    "dotnet_interactive": {
     "language": "fsharp"
    },
    "polyglot_notebook": {
     "kernelName": "fsharp"
    }
   },
   "outputs": [],
   "source": [
    "// Funciones no finalizadas!\n",
    "let renormalizeVelocity (vel: float*float) = \n",
    "    // Esta función auxiliar sirve para acelerar y cambiar la dirección conservando la velocidad\n",
    "    let (r, theta) = cartesianToPolar vel\n",
    "    let norm = Math.Sqrt ((fst vel)**2 + (snd vel)**2)\n",
    "    let (vx, vy) = vel\n",
    "    (vx * r / norm, vy * r / norm)\n",
    "\n",
    "let tupleAdd (tup1: float*float) (tup2: float*float) =\n",
    "    (fst tup1 + fst tup2, snd tup1 + snd tup2)\n",
    "\n",
    "let accelerateShip (ship: Ship) (input: Input) =\n",
    "    let shipMaxVel = 1                      // /(float fps) ?\n",
    "    let shipAcc = 1.0/(float fps)\n",
    "    let shipDesacc = 0.5/(float fps)  // desacelera más lento\n",
    "    let shipMaxVel = 20./(float fps)\n",
    "    \n",
    "    let velocityDelta (ship: Ship) (thrust: bool) =\n",
    "        let (velR, velTheta) = cartesianToPolar ship.Vel\n",
    "        match thrust with\n",
    "        | true -> (shipAcc * Math.Cos(ship.Ang), shipAcc * Math.Sin(ship.Ang))  // Aceleración con orientación al ángulo actual\n",
    "        | false -> (-shipDesacc * Math.Cos(velTheta), -shipDesacc * Math.Sin(velTheta)) // Desaceleración con orientación a la velocidad actual\n",
    "    \n",
    "    let velDelta = velocityDelta ship input.Thrust\n",
    "    let (velR, velTheta) = cartesianToPolar velDelta\n",
    "\n",
    "    let newVelocity =\n",
    "        let velFinalUnnorm = tupleAdd ship.Vel velDelta\n",
    "        match input.Thrust with\n",
    "        | true ->   match cartesianToPolar velFinalUnnorm with\n",
    "                    | (r, _) when r <= shipMaxVel -> velFinalUnnorm\n",
    "                    | (r, _) when r > shipMaxVel  -> velFinalUnnorm |> renormalizeVelocity\n",
    "        | false ->\n",
    "                    match cartesianToPolar velDelta with\n",
    "                    | (r, _) when r = 0  -> (0.0, 0.0)\n",
    "                    | (r, _) when r <= shipMaxVel -> velFinalUnnorm\n",
    "    newVelocity"
   ]
  },
  {
   "cell_type": "code",
   "execution_count": 9,
   "metadata": {
    "dotnet_interactive": {
     "language": "fsharp"
    },
    "polyglot_notebook": {
     "kernelName": "fsharp"
    }
   },
   "outputs": [],
   "source": [
    "let updateShip (game: Game) (input: Input) = \n",
    "    let ship = game.Ship\n",
    "    let asts = game.Asteroids\n",
    "    let bulls = game.Bullets\n",
    "\n",
    "    let astShipColls =\n",
    "        asts\n",
    "        |> List.filter (fun x -> checkCollisionShipAsteroid ship x)\n",
    "    let bullShipColls =\n",
    "        bulls\n",
    "        |> List.filter (fun x -> checkCollisionShipBullet ship x)\n",
    "\n",
    "    let aliveStatus = (astShipColls = [] && bullShipColls = [])\n",
    "    let newVel = accelerateShip ship input\n",
    "    let newPos = newPosShip ship\n",
    "    let newAngle = trueModulo (ship.Ang + deltaAngle input) (2.*Math.PI)\n",
    "    \n",
    "    match aliveStatus with\n",
    "    | true ->   let newShip = {ship with Pos = newPos; Vel = newVel; Ang = newAngle}\n",
    "                Playing {game with\n",
    "                            Ship = newShip}\n",
    "\n",
    "    | false ->  match game.Lives with\n",
    "                | One -> Gameover\n",
    "                | _ -> Playing {game with Lives = nextLives ship.Lives}\n",
    "\n",
    "let updateBullets (game: Game) (input: Input) =\n",
    "    let ship = game.Ship\n",
    "    let astList = game.Asteroids\n",
    "    let bullList = game.Bullets\n",
    "    let newBullets =\n",
    "        shootBullet ship bullList input         // las balas se crean sólo por el jugador\n",
    "        |> List.filter (fun x -> isBullDestroyed x astList = false)         // destrucción de bala por contacto con asteroide\n",
    "        |> List.filter (fun x -> checkCollisionShipBullet ship x)      // destrucción de bala por contacto con ship\n",
    "        |> moveAndClearBullets      // se mueven las balas remanentes y se quitan las que alcanzaron el máximo rango\n",
    "    {game with\n",
    "        Bullets = newBullets}\n",
    "\n",
    "let updateAsteroids (game: Game) =\n",
    "    let ship = game.Ship\n",
    "    let astList0 = game.Asteroids\n",
    "    let bullList = game.Bullets\n",
    "\n",
    "    // separo entre los asteroides destruidos y los que siguen\n",
    "    let astDeadList, astAliveList =\n",
    "        astList0\n",
    "        |> List.partition (fun x -> isAstDestroyed bullList x )\n",
    "\n",
    "    // a los destruidos se les aplica astSplit, que los elimina si son\n",
    "    // de size = small, y los separa en dos más pequeños en caso contrario\n",
    "    let astSplitList =\n",
    "        astDeadList\n",
    "        |> List.collect (fun x -> astSplit x)\n",
    "    \n",
    "    let astList1 = astAliveList @ astSplitList\n",
    "    let newAsts =\n",
    "        astList1\n",
    "        |> List.map (fun x -> {x with Pos = newPosAsteroid x})\n",
    "    {game with\n",
    "        Asteroids = newAsts}"
   ]
  },
  {
   "cell_type": "code",
   "execution_count": 10,
   "metadata": {
    "dotnet_interactive": {
     "language": "fsharp"
    },
    "polyglot_notebook": {
     "kernelName": "fsharp"
    }
   },
   "outputs": [],
   "source": [
    "let checkLevelFinished (game: Game) =\n",
    "    // chequea si el nivel está terminado \n",
    "    let ship = game.Ship\n",
    "    let asts = game.Asteroids\n",
    "\n",
    "    (asts = [])\n",
    "\n",
    "let checkGameOver (gamestate: Gamestate) = \n",
    "    // chequea game over\n",
    "    match gamestate with\n",
    "    | Gameover -> true\n",
    "    | Playing _ -> false"
   ]
  },
  {
   "cell_type": "code",
   "execution_count": 12,
   "metadata": {
    "dotnet_interactive": {
     "language": "fsharp"
    },
    "polyglot_notebook": {
     "kernelName": "fsharp"
    }
   },
   "outputs": [],
   "source": [
    "let spawnAsteroids (game: Game) (num: int) = \n",
    "    // spawn de asteroides al inicio del nivel\n",
    "    // num: cantidad de asteroides a spawnear\n",
    "    let randAst ()=\n",
    "        // genera un asteroide Large random ubicado en los bordes de la pantalla\n",
    "        let x = trueModulo ((rand.NextDouble() - 0.5)*aspect_ratio/2.) aspect_ratio\n",
    "        let y = trueModulo ((rand.NextDouble() - 0.5)*0.5)  1.0\n",
    "        let theta = float (rand.Next(16)) * Math.PI/8.\n",
    "        let vel = polarToCartesian (maxAsteroidVel*0.5) theta \n",
    "        {Pos = (x, y); Vel = vel; Size = Large}\n",
    "\n",
    "    let newAsts = List.init num (fun x -> randAst())\n",
    "    {game with\n",
    "        Asteroids = game.Asteroids @ newAsts}"
   ]
  },
  {
   "cell_type": "code",
   "execution_count": null,
   "metadata": {},
   "outputs": [],
   "source": [
    "let spawnSaucer (game: Game) = \n",
    "    let saucerSize = 0.1\n",
    "\n",
    "    let randInBand fraction = \n",
    "        // genera número random en una franja de ancho \"fracion\" centrada en 0.5\n",
    "        (rand.NextDouble() - 0.5) * fraction + 0.5\n",
    "\n",
    "    let saucer0 = Some {Pos = (0.0, randInBand 0.9); \n",
    "                        Dir = Right;\n",
    "                        Size = saucerSize}\n",
    "\n",
    "    let newSaucer = \n",
    "        match rand.Next(2) with\n",
    "        | 0 -> { saucer0 with Dir = Right }\n",
    "        | 1 -> { saucer0 with Dir = Left }\n",
    "    {game with\n",
    "        Saucer = newSaucer}\n",
    "\n",
    "let moveSaucer (saucer: Saucer) = \n",
    "    let saucerVel = 1.0/(float fps)\n",
    "    let vel = \n",
    "        match saucer.Dir with\n",
    "        | Right -> (saucerVel, 0)\n",
    "        | Left -> (-saucerVel, 0)\n",
    "    let newPos = shiftGeneral saucer.Pos vel\n",
    "    newPos\n",
    "\n",
    "let saucerShoot (saucer: Saucer) (bullets: list<Bullet>)=\n",
    "    let saucerFire (saucer: Saucer) (bullets: list<Bullet>) =\n",
    "        let angRandom = 2.0*Math.PI*rand.NextDouble()\n",
    "        let newBullet = \n",
    "            {\n",
    "                Pos = (fst saucer.Pos + saucer.Size*Math.Cos(angRandom),\n",
    "                    snd saucer.Pos + saucer.Size*Math.Sin(angRandom))\n",
    "                Ang = angRandom\n",
    "                Life = 0.0\n",
    "            }\n",
    "        bullets @ [newBullet]\n",
    "        \n",
    "    let fireProbability = 0.3\n",
    "    match rand.NextDouble() < fireProbability with\n",
    "    | false -> bullets\n",
    "    | true -> saucerFire saucer bullets"
   ]
  },
  {
   "cell_type": "code",
   "execution_count": null,
   "metadata": {},
   "outputs": [],
   "source": [
    "let updateSaucer (game: Game) =\n",
    "    let saucer = game.Saucer\n",
    "\n",
    "    let bullSaucerColls =\n",
    "        game.Bullets\n",
    "        |> List.filter (fun x -> checkCollisionSaucerBullet saucer x)\n",
    "\n",
    "    let aliveStatus = (bullSaucerColls = [])\n",
    "    let newPos = moveSaucer saucer\n",
    "    match aliveStatus with\n",
    "    | true ->   {saucer with\n",
    "                    Pos = newPos\n",
    "                    }\n",
    "    | false ->  {saucer with\n",
    "                    Alive = false\n",
    "                    }"
   ]
  }
 ],
 "metadata": {
  "kernelspec": {
   "display_name": ".NET (C#)",
   "language": "C#",
   "name": ".net-csharp"
  },
  "language_info": {
   "name": "polyglot-notebook"
  },
  "polyglot_notebook": {
   "kernelInfo": {
    "defaultKernelName": "csharp",
    "items": [
     {
      "aliases": [],
      "name": "csharp"
     },
     {
      "aliases": [],
      "languageName": "fsharp",
      "name": "fsharp"
     }
    ]
   }
  }
 },
 "nbformat": 4,
 "nbformat_minor": 2
}
