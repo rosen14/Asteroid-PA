{
 "cells": [
  {
   "cell_type": "code",
   "execution_count": 1,
   "metadata": {
    "dotnet_interactive": {
     "language": "fsharp"
    },
    "polyglot_notebook": {
     "kernelName": "fsharp"
    }
   },
   "outputs": [],
   "source": [
    "type Size =\n",
    "    | Large\n",
    "    | Medium\n",
    "    | Small\n",
    "    \n",
    "type Lives =\n",
    "    | Three\n",
    "    | Two\n",
    "    | One\n",
    "    | Zero\n",
    "\n",
    "let nextLives (life: Lives) =\n",
    "    match life with\n",
    "    | Three -> Two\n",
    "    | Two -> One\n",
    "    | One -> Zero\n",
    "    | Zero -> Zero\n",
    "    \n",
    "type Ship = {\n",
    "        Pos: float*float\n",
    "        Vel: float*float\n",
    "        Ang: float\n",
    "        Lives: Lives\n",
    "        Size: float    // el radio\n",
    "        Alive: bool\n",
    "    }\n",
    "\n",
    "type Asteroid = {\n",
    "    Pos: float*float\n",
    "    Vel: float*float\n",
    "    Size: Size\n",
    "    }\n",
    "\n",
    "type Bullet = {\n",
    "    Pos: float*float\n",
    "    Ang: float\n",
    "    Life: float\n",
    "}\n",
    "\n",
    "type Saucer = {\n",
    "    Ypos: float\n",
    "    Dir: bool\n",
    "}\n",
    "\n",
    "type Rotation =\n",
    "    | Positive\n",
    "    | Negative\n",
    "    | None\n",
    "\n",
    "type Input = {\n",
    "    Thrust: bool\n",
    "    Shoot: bool\n",
    "    Rot: Rotation\n",
    "}\n",
    "\n",
    "type Game = {\n",
    "    Ship: Ship\n",
    "    Asteroids: Asteroid list\n",
    "    Bullets: Bullet list\n",
    "    Saucer: Saucer\n",
    "    Score: int\n",
    "}\n",
    "\n",
    "let shipMaxVel = 1\n",
    "let maxBullLife = 1\n",
    "let fps = 1\n",
    "let aspect_ratio = 1.5\n",
    "\n"
   ]
  },
  {
   "cell_type": "code",
   "execution_count": null,
   "metadata": {
    "dotnet_interactive": {
     "language": "fsharp"
    },
    "polyglot_notebook": {
     "kernelName": "fsharp"
    }
   },
   "outputs": [],
   "source": [
    "// check collision between pair of objects\n",
    "let checkColAst_Bull (ast: Ast) (bull: Bullet) : bool =\n",
    "\n",
    "let checkColAst_Ship (ast: Ast) (ship: Ship) : bool =\n",
    "\n",
    "let checkColShip_Bull (ship: Ship) (bull: Bullet) : bool =\n",
    "\n",
    "// kill Asts if collision\n",
    "// let updateAst (game: Game) =\n",
    "\n",
    "// let updateShip (game: Game) (input: Input) =\n",
    "\n",
    "// let updateBull (game: Game) (input: Input) =\n",
    "\n",
    "\n",
    "let moveAst (ast: Ast) =\n",
    "\n",
    "let moveShip (ship: Ship) (input: Input) =\n",
    "\n",
    "let moveBull (bull: Bullet) =\n",
    "\n",
    "\n",
    "let spawnAst =\n",
    "    \n",
    "\n",
    "let spawnShip ="
   ]
  },
  {
   "cell_type": "code",
   "execution_count": 2,
   "metadata": {
    "dotnet_interactive": {
     "language": "fsharp"
    },
    "polyglot_notebook": {
     "kernelName": "fsharp"
    }
   },
   "outputs": [],
   "source": [
    "let sizeMap = Map [(Size.Small, 0.01); (Size.Medium, 0.02); (Size.Large, 0.04)]\n",
    "\n",
    "let distance (pos1:float*float) (pos2:float*float) = \n",
    "    Math.Sqrt(Math.Pow((fst pos1 - fst pos2),2) + Math.Pow((snd pos1 - snd pos2),2))     // chequear qué pasa cuando se teletransporta algo\n",
    "\n",
    "let checkCollisionShipAsteroid (ship: Ship) (asteroid: Asteroid) = \n",
    "    // Devuelve verdadero si hay superposición entre la nave y un asteroide\n",
    "    let shipAstDistance = distance ship.Pos asteroid.Pos\n",
    "    let radiiSum = sizeMap[asteroid.Size] + ship.Size\n",
    "    shipAstDistance < radiiSum\n",
    "\n",
    "let checkCollisionShipBullet (ship: Ship) (bullet: Bullet) =\n",
    "    // Devuelve verdadero si hay superposición entre la nave y una bala\n",
    "    let shipBulletDistance = distance bullet.Pos ship.Pos\n",
    "    distance < ship.Size //la bala se supone puntual\n",
    "\n",
    "let checkCollisionBulletAsteroid (bullet: Bullet) (asteroid: Asteroid) =\n",
    "    let bulletAsteroidDistance = distance bullet.Pos asteroid.Pos\n",
    "    distance < asteroid.Size"
   ]
  },
  {
   "cell_type": "code",
   "execution_count": 17,
   "metadata": {
    "dotnet_interactive": {
     "language": "fsharp"
    },
    "polyglot_notebook": {
     "kernelName": "fsharp"
    }
   },
   "outputs": [],
   "source": [
    "let bulletsVelocity = 0.1\n",
    "let maxBullLife = 20\n",
    "//----------------------\n",
    "// che estoy pensando si no convendrá laburar directamente con los módulos en vez de poner ifs y checkear cuando se va del mapa\n",
    "// qué opinás?\n",
    "//----------------------\n",
    "let normalizeValue (x: float, modulo: float) =\n",
    "    // Esta función hace que los objetos que traspasan un borde la pantalla regresen por otro\n",
    "    let rec normalize (x: float, modulo: float) =\n",
    "        if x < 0.0 then\n",
    "            normalize (x + modulo, modulo)\n",
    "        else\n",
    "            x % modulo\n",
    "    normalize (x, modulo)\n",
    "\n",
    "let moveBullet (bullet: Bullet) = \n",
    "    let Vx = -bulletsVelocity*Math.Cos(bullet.Ang)\n",
    "    let Vy = -bulletsVelocity*Math.Sin(bullet.Ang)\n",
    "\n",
    "    let newPosX = normalizeValue((fst bullet.Pos) + Vx/(float fps), aspect_ratio)\n",
    "    let newPosY = normalizeValue((snd bullet.Pos) + Vy/(float fps), 1.0)\n",
    "    let newPosition = (newPosX, newPosY)\n",
    "    \n",
    "    let newLife = bullet.Life + bulletsVelocity/(float fps)\n",
    "\n",
    "    let newBullet = \n",
    "        { bullet with\n",
    "            Pos = newPosition\n",
    "            Life = newLife\n",
    "        }\n",
    "    newBullet\n",
    "\n",
    "let moveAndClearBullets (bullets: List<Bullet>) = \n",
    "    bullets\n",
    "    |> List.map (fun b -> moveBullet b) // Actualiza la posición de las balas y contabiliza su recorrido\n",
    "    |> List.filter (fun b -> b.Life <= maxBullLife) // Elimina las balas cuyo recorrido supera el máximo establecido\n"
   ]
  },
  {
   "cell_type": "code",
   "execution_count": 22,
   "metadata": {
    "dotnet_interactive": {
     "language": "fsharp"
    },
    "polyglot_notebook": {
     "kernelName": "fsharp"
    }
   },
   "outputs": [],
   "source": [
    "// ------------------------------------\n",
    "// creo que en el juego cuando los objetos se van de la pantalla, aparecen partidos en los dos extremos. \n",
    "// CHEQUEAR\n",
    "// ------------------------------------\n",
    "\n",
    "let shiftGeneral (pos: float*float) (vel: float*float) =\n",
    "    let newPosX = (fst pos + fst vel) % aspect_ratio\n",
    "    let newPosY = (snd pos + snd vel) % 1.0\n",
    "    let newPosition = (newPosX, newPosY)\n",
    "    newPosition\n",
    "\n",
    "let newPosAsteroid (asteroid: Asteroid) =\n",
    "    // Función que actualiza la posición de los asteroides\n",
    "    // A los módulos se les adiciona el tamaño del objeto para que la reaparicion ocurra cuando el objeto deja de visualizarse en la pantalla\n",
    "    shiftGeneral asteroid.Pos asteroid.Vel\n",
    "\n",
    "let newPosShip (ship: Ship) =\n",
    "    shiftGeneral ship.Pos ship.Vel"
   ]
  },
  {
   "cell_type": "code",
   "execution_count": null,
   "metadata": {
    "dotnet_interactive": {
     "language": "fsharp"
    },
    "polyglot_notebook": {
     "kernelName": "fsharp"
    }
   },
   "outputs": [],
   "source": [
    "let spawnShip (game: Game) =\n",
    "    // Reestablece el estado de la nave en el juego\n",
    "    let newShip =\n",
    "        { game.Ship with\n",
    "            Pos = (0.5, aspect_ratio/2.0)\n",
    "            Ang = 0.0\n",
    "            Vel = (0.0, 0.0)\n",
    "        }\n",
    "    let newGame = \n",
    "        { game with\n",
    "            Ship = newShip\n",
    "            Alive = true\n",
    "        }\n",
    "    newGame\n"
   ]
  },
  {
   "cell_type": "code",
   "execution_count": 27,
   "metadata": {
    "dotnet_interactive": {
     "language": "fsharp"
    },
    "polyglot_notebook": {
     "kernelName": "fsharp"
    }
   },
   "outputs": [],
   "source": [
    "let shootBullet (ship: Ship, bullets: List<Bullet>, input: Input) = \n",
    "    // Agrega una bala a la lista de balas cuando se ejecuta la acción de disparar\n",
    "    let fire (ship: Ship, bullets: List<Bullet>) =\n",
    "        let newBullet = \n",
    "            {\n",
    "                Pos = (fst ship.Pos + ship.Size*Math.Cos(ship.Ang),\n",
    "                    snd ship.Pos + ship.Size*Math.Sin(ship.Ang))\n",
    "                Ang = ship.Ang\n",
    "                Life = 0.0\n",
    "            }\n",
    "        bullets @ newBullet\n",
    "    \n",
    "    match input.Shoot with\n",
    "    | true -> fire (ship, bullets)\n",
    "    | false -> bullets\n"
   ]
  },
  {
   "cell_type": "code",
   "execution_count": 26,
   "metadata": {
    "dotnet_interactive": {
     "language": "fsharp"
    },
    "polyglot_notebook": {
     "kernelName": "fsharp"
    }
   },
   "outputs": [],
   "source": [
    "let rotateShip (ship: Ship) (input: Input) = \n",
    "    // Modifica la orientación de la nave en pi/8 si el input así lo indica\n",
    "    let angQuantum = Math.PI/8.0\n",
    "    let newAngle (rotation: Rotation) =\n",
    "        match rotation with\n",
    "        | Positive -> angQuantum\n",
    "        | Negative -> -angQuantum\n",
    "        | None -> 0.0\n",
    "    newAngle"
   ]
  },
  {
   "cell_type": "code",
   "execution_count": null,
   "metadata": {
    "dotnet_interactive": {
     "language": "fsharp"
    },
    "polyglot_notebook": {
     "kernelName": "fsharp"
    }
   },
   "outputs": [],
   "source": [
    "let cartesianToPolar (vec: float*float) =\n",
    "    let (x, y) = vec\n",
    "    let r = Math.Sqrt(x**2 + y**2)\n",
    "    let theta = Math.PI/2.0 - Math.Atan2 (y, x) // REVISAR!\n",
    "    r, theta\n",
    "\n",
    "// Funciones no finalizadas!\n",
    "let renormalizeVelocity (vel: float*float) = \n",
    "    // Esta función auxiliar sirve para acelerar y cambiar la dirección conservando la velocidad\n",
    "    let (r, theta) = cartesianToPolar vel\n",
    "    let norm = Math.Sqrt ((fst vel)**2 + (snd vel)**2)\n",
    "    let (vx, vy) = vel\n",
    "    (vx * r / norm, vy * r / norm)\n",
    "\n",
    "let tupleAdd (tup1: float*float) (tup2: float*float) =\n",
    "    (fst tup1 + fst tup2, snd tup1 + snd tup2)\n",
    "\n",
    "let accelerateShip (ship: Ship, input: Input) =\n",
    "\n",
    "    let shipAcc = 1.0/(float fps)\n",
    "    let shipDesacc = 0.5/(float fps)  // desacelera más lento\n",
    "    let shipMaxVel = 20./(float fps)\n",
    "    \n",
    "    let velocityDelta (ship: Ship) (thrust: bool) =\n",
    "        let (velR, velTheta) = cartesianToPolar ship.Vel\n",
    "        match thrust with\n",
    "        | true -> (shipAcc * Math.Cos(ship.Ang), shipAcc * Math.Sin(ship.Ang))  // Aceleración con orientación al ángulo actual\n",
    "        | false -> (-shipDesacc * Math.Cos(velTheta), -shipDesacc * Math.Sin(velTheta)) // Desaceleración con orientación a la velocidad actual\n",
    "    \n",
    "    let velDelta = velocityDelta ship input.Thrust\n",
    "    let (velR, velTheta) = cartesianToPolar velDelta\n",
    "\n",
    "    let newVelocity =\n",
    "        let velFinalUnnorm = tupleAdd ship.Vel velDelta\n",
    "        match input.Thrust with\n",
    "        | true ->   match cartesianToPolar velFinalUnnorm with\n",
    "                    | (r, _) when r < shipMaxVel -> velFinalUnnorm\n",
    "                    | (r, _) when r = shipMaxVel  -> velFinalUnnorm |> renormalizeVelocity\n",
    "        | false ->\n",
    "                    match cartesianToPolar velDelta with\n",
    "                    | (r, _) when r <= shipMaxVel -> velFinalUnnorm\n",
    "                    | (r, _) when r = 0  -> (0.0, 0.0)\n",
    "    newVelocity"
   ]
  },
  {
   "cell_type": "code",
   "execution_count": null,
   "metadata": {
    "dotnet_interactive": {
     "language": "fsharp"
    },
    "polyglot_notebook": {
     "kernelName": "fsharp"
    }
   },
   "outputs": [],
   "source": [
    "let updateShip (ship: Ship) (asts: Asteroid List) (bulls: Bullet List) (input: Input) = \n",
    "    let astShipColls =\n",
    "        asts\n",
    "        |> List.filter (fun x -> checkCollisionBulletAsteroid ship x)\n",
    "    let bullShipColls =\n",
    "        bulls\n",
    "        |> List.filter (fun x -> checkCollsionShipBullet ship x)\n",
    "\n",
    "    let aliveStatus = (astShipColls = [] && bullShipColls = [])\n",
    "    let newVel = accelerateShip ship input\n",
    "    let newPos = newPosShip ship\n",
    "    let newAngle = rotateShip ship input\n",
    "    \n",
    "    match aliveStatus with\n",
    "    | true ->   {ship with\n",
    "                    Pos = newPos\n",
    "                    Vel = newVel\n",
    "                    Ang = newAngle}\n",
    "    | false ->  match ship.Lives with\n",
    "                | liv when liv = One || liv = Zero ->   {ship with\n",
    "                                                            Alive = false\n",
    "                                                            Lives = Zero}\n",
    "                | _ ->  {ship with\n",
    "                            Alive = false\n",
    "                            Lives = nextLives ship.Lives}"
   ]
  }
 ],
 "metadata": {
  "kernelspec": {
   "display_name": ".NET (F#)",
   "language": "F#",
   "name": ".net-fsharp"
  },
  "language_info": {
   "name": "polyglot-notebook"
  },
  "polyglot_notebook": {
   "kernelInfo": {
    "defaultKernelName": "fsharp",
    "items": [
     {
      "aliases": [],
      "languageName": "fsharp",
      "name": "fsharp"
     }
    ]
   }
  }
 },
 "nbformat": 4,
 "nbformat_minor": 2
}
