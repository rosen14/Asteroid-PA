{
 "cells": [
  {
   "cell_type": "code",
   "execution_count": 1,
   "metadata": {
    "dotnet_interactive": {
     "language": "fsharp"
    },
    "polyglot_notebook": {
     "kernelName": "fsharp"
    }
   },
   "outputs": [],
   "source": [
    "type Size =\n",
    "    | Large\n",
    "    | Mid\n",
    "    | Small\n",
    "\n",
    "type Lives =\n",
    "    | Three\n",
    "    | Two\n",
    "    | One\n",
    "    | Zero\n",
    "    \n",
    "type Ship = {\n",
    "        pos: float*float\n",
    "        vel: float*float\n",
    "        ang: float\n",
    "        lives: Lives\n",
    "    }\n",
    "\n",
    "type Ast= {\n",
    "    pos: float*float\n",
    "    vel: float*float\n",
    "    size: Size\n",
    "    }\n",
    "\n",
    "type Bullet = {\n",
    "    pos: float*float\n",
    "    ang: float\n",
    "    life: int\n",
    "}\n",
    "\n",
    "type Saucer = {\n",
    "    ypos: float\n",
    "    dir: bool\n",
    "}\n",
    "\n",
    "type Rotation =\n",
    "    | Positive\n",
    "    | Negative\n",
    "    | None\n",
    "\n",
    "type Input = {\n",
    "    thrust: bool\n",
    "    shoot: bool\n",
    "    rot: Rotation\n",
    "}\n",
    "\n",
    "type Game = {\n",
    "    ship: Ship\n",
    "    asts: Ast list\n",
    "    bulls: Bullet list\n",
    "    sauc: Saucer\n",
    "    score: int\n",
    "}\n",
    "\n",
    "let shipMaxVel = 1\n",
    "let maxBullLife = 1\n",
    "let fps = 1\n",
    "let aspect_ratio = 1.5\n",
    "\n"
   ]
  },
  {
   "cell_type": "code",
   "execution_count": null,
   "metadata": {
    "dotnet_interactive": {
     "language": "fsharp"
    },
    "polyglot_notebook": {
     "kernelName": "fsharp"
    },
    "vscode": {
     "languageId": "polyglot-notebook"
    }
   },
   "outputs": [],
   "source": [
    "// check collision between pair of objects\n",
    "let checkColAst-Bull (ast: Ast) (bull: Bullet) : bool =\n",
    "\n",
    "let checkColAst-Ship (ast: Ast) (ship: Ship) : bool =\n",
    "\n",
    "let checkColShip-Bull (ship: Ship) (bull: Bullet) : bool =\n",
    "\n",
    "// kill Asts if collision\n",
    "let updateAst (game: Game) =\n",
    "\n",
    "let updateShip (game: Game) (input: Input) =\n",
    "\n",
    "let updateBull (game: Game) (input: Input) =\n",
    "\n",
    "\n",
    "let moveAst (ast: Ast) =\n",
    "\n",
    "let moveShip (ship: Ship) (input: Input) =\n",
    "\n",
    "let moveBull (bull: Bullet) =\n",
    "\n",
    "\n",
    "let spawnAst =\n",
    "\n",
    "let spawnShip ="
   ]
  }
 ],
 "metadata": {
  "kernelspec": {
   "display_name": ".NET (F#)",
   "language": "F#",
   "name": ".net-fsharp"
  },
  "polyglot_notebook": {
   "kernelInfo": {
    "defaultKernelName": "fsharp",
    "items": [
     {
      "aliases": [],
      "languageName": "fsharp",
      "name": "fsharp"
     }
    ]
   }
  }
 },
 "nbformat": 4,
 "nbformat_minor": 2
}
