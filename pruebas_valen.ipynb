{
 "cells": [
  {
   "cell_type": "code",
   "execution_count": 1,
   "metadata": {
    "dotnet_interactive": {
     "language": "fsharp"
    },
    "polyglot_notebook": {
     "kernelName": "fsharp"
    }
   },
   "outputs": [],
   "source": [
    "type Size =\n",
    "    | Large\n",
    "    | Medium\n",
    "    | Small\n",
    "    \n",
    "type Lives =\n",
    "    | Three\n",
    "    | Two\n",
    "    | One\n",
    "    | Zero\n",
    "\n",
    "let nextLives (life: Lives) =\n",
    "    match life with\n",
    "    | Three -> Two\n",
    "    | Two -> One\n",
    "    | One -> Zero\n",
    "    | Zero -> Zero\n",
    "    \n",
    "type Ship = {\n",
    "        Pos: float*float\n",
    "        Vel: float*float\n",
    "        Ang: float\n",
    "        Lives: Lives\n",
    "        Size: float    // el radio\n",
    "        Alive: bool\n",
    "    }\n",
    "\n",
    "type Asteroid = {\n",
    "    Pos: float*float\n",
    "    Vel: float*float\n",
    "    Size: Size\n",
    "    }\n",
    "\n",
    "type Bullet = {\n",
    "    Pos: float*float\n",
    "    Ang: float\n",
    "    Life: float\n",
    "}\n",
    "\n",
    "type Saucer = {\n",
    "    Ypos: float\n",
    "    Dir: bool\n",
    "}\n",
    "\n",
    "type Rotation =\n",
    "    | Positive\n",
    "    | Negative\n",
    "    | None\n",
    "\n",
    "type Input = {\n",
    "    Thrust: bool\n",
    "    Shoot: bool\n",
    "    Rot: Rotation\n",
    "}\n",
    "\n",
    "type Game = {\n",
    "    Ship: Ship\n",
    "    Asteroids: Asteroid list\n",
    "    Bullets: Bullet list\n",
    "    Saucer: Saucer\n",
    "    Score: int\n",
    "}\n",
    "\n",
    "\n",
    "let fps = 24\n",
    "let aspect_ratio = 1.5\n",
    "let rand = Random()   // inicializo instancia de Random()\n",
    "let maxAsteroidVel = 20."
   ]
  },
  {
   "cell_type": "code",
   "execution_count": 2,
   "metadata": {
    "dotnet_interactive": {
     "language": "fsharp"
    },
    "polyglot_notebook": {
     "kernelName": "fsharp"
    }
   },
   "outputs": [],
   "source": [
    "let sizeMap = Map [(Size.Small, 0.01); (Size.Medium, 0.02); (Size.Large, 0.04)]\n",
    "\n",
    "let min_abs x y = \n",
    "    min (abs x) (abs y)\n",
    "\n",
    "let distance (pos1:float*float) (pos2:float*float) = \n",
    "    let dx1 = fst pos1 - fst pos2\n",
    "    let dy1 = snd pos1 - snd pos2\n",
    "\n",
    "    let dx2 = min_abs dx1 (aspect_ratio - dx1)\n",
    "    let dy2 = min_abs dy1 (1. - dy1)\n",
    "    Math.Sqrt(dx2 ** 2 + dy2 ** 2) \n",
    "\n",
    "let cartesianToPolar (vec: float*float) =\n",
    "    let (x, y) = vec                               \n",
    "    let r = Math.Sqrt(x**2 + y**2)\n",
    "    let theta = Math.PI/2.0 - Math.Atan2 (y, x) // REVISAR!\n",
    "    r, theta\n",
    "\n",
    "let polarToCartesian (r: float) (theta: float) =\n",
    "    let x = r * Math.Cos(theta)\n",
    "    let y = r * Math.Sin(theta)\n",
    "    (x, y)\n",
    "\n",
    "let checkCollisionShipAsteroid (ship: Ship) (asteroid: Asteroid) = \n",
    "    // Devuelve verdadero si hay superposición entre la nave y un asteroide\n",
    "    let shipAstDistance = distance ship.Pos asteroid.Pos\n",
    "    let radiiSum = sizeMap[asteroid.Size] + ship.Size\n",
    "    shipAstDistance < radiiSum\n",
    "\n",
    "let checkCollisionShipBullet (ship: Ship) (bullet: Bullet) =\n",
    "    // Devuelve verdadero si hay superposición entre la nave y una bala\n",
    "    let shipBulletDistance = distance bullet.Pos ship.Pos\n",
    "    distance < ship.Size //la bala se supone puntual\n",
    "\n",
    "let checkCollisionBulletAsteroid (bullet: Bullet) (asteroid: Asteroid) =\n",
    "    let bulletAsteroidDistance = distance bullet.Pos asteroid.Pos\n",
    "    distance < asteroid.Size\n",
    "\n",
    "let isBullDestroyed (bull: Bullet) (asts: Asteroid List) =\n",
    "    // true cuando bull es destruída por contacto con algún asteroide\n",
    "    let collisions =\n",
    "        asts\n",
    "        |> List.filter (fun x -> checkCollisionBulletAsteroid bull x)\n",
    "    not (collisions = [])\n",
    "\n",
    "let isAstDestroyed (bulls: Bullet List) (ast: Asteroid) =\n",
    "    // true cuando asteroide es destruido por contacto con alguna bala\n",
    "    let collisions =\n",
    "        bulls\n",
    "        |> List.filter (fun x -> checkcollisionBulletAsteroid x ast)\n",
    "    not (collisions = [])\n",
    "\n",
    "let astSplit (ast: Asteroid) = \n",
    "    let spawn2RandAsts (pos: float*float) (size: Size) =\n",
    "\n",
    "        let randVel () : float*float=\n",
    "            let r = rand.NextDouble() * MaxAsteroidVel\n",
    "            let ang = rand.Next(16) * Math.PI/8\n",
    "            polarToCartesian r ang\n",
    "\n",
    "        let vel1 = randVel\n",
    "        let vel2 = randVel\n",
    "        let randAsts : Asteroid List = [{Pos = pos, Vel = vel1, Size = size}; {Pos = pos, Vel = vel2, Size = size}]\n",
    "        randAsts\n",
    "\n",
    "    match ast.Size with\n",
    "    | Large -> spawn2RandAsts ast.Pos Medium\n",
    "    | Medium -> spawn2RandAsts ast.Pos Small \n",
    "    | Small -> []"
   ]
  },
  {
   "cell_type": "code",
   "execution_count": 17,
   "metadata": {
    "dotnet_interactive": {
     "language": "fsharp"
    },
    "polyglot_notebook": {
     "kernelName": "fsharp"
    }
   },
   "outputs": [],
   "source": [
    "let bulletsVelocity = 0.1\n",
    "let maxBullLife = 20\n",
    "//----------------------\n",
    "// che estoy pensando si no convendrá laburar directamente con los módulos en vez de poner ifs y checkear cuando se va del mapa\n",
    "// qué opinás?\n",
    "//----------------------\n",
    "let normalizeValue (x: float) (modulo: float) =\n",
    "    // Esta función hace que los objetos que traspasan un borde la pantalla regresen por otro\n",
    "    let y = x % modulo\n",
    "    match y with\n",
    "    | _ when y < 0.0 -> y + modulo\n",
    "    | _ -> y\n",
    "\n",
    "let moveBullet (bullet: Bullet) = \n",
    "    let Vx = -bulletsVelocity*Math.Cos(bullet.Ang)\n",
    "    let Vy = -bulletsVelocity*Math.Sin(bullet.Ang)\n",
    "\n",
    "    let newPosX = normalizeValue((fst bullet.Pos) + Vx/(float fps), aspect_ratio)\n",
    "    let newPosY = normalizeValue((snd bullet.Pos) + Vy/(float fps), 1.0)\n",
    "    let newPosition = (newPosX, newPosY)\n",
    "    \n",
    "    let newLife = bullet.Life + bulletsVelocity/(float fps)\n",
    "\n",
    "    let newBullet = \n",
    "        { bullet with\n",
    "            Pos = newPosition\n",
    "            Life = newLife\n",
    "        }\n",
    "    newBullet\n",
    "\n",
    "let moveAndClearBullets (bullets: List<Bullet>) = \n",
    "    let maxBullLife = 50\n",
    "    bullets\n",
    "    |> List.map (fun b -> moveBullet b) // Actualiza la posición de las balas y contabiliza su recorrido\n",
    "    |> List.filter (fun b -> b.Life <= maxBullLife) // Elimina las balas cuyo recorrido supera el máximo establecido\n"
   ]
  },
  {
   "cell_type": "code",
   "execution_count": 22,
   "metadata": {
    "dotnet_interactive": {
     "language": "fsharp"
    },
    "polyglot_notebook": {
     "kernelName": "fsharp"
    }
   },
   "outputs": [],
   "source": [
    "// ------------------------------------\n",
    "// creo que en el juego cuando los objetos se van de la pantalla, aparecen partidos en los dos extremos. \n",
    "// CHEQUEAR\n",
    "// ------------------------------------\n",
    "\n",
    "let shiftGeneral (pos: float*float) (vel: float*float) =\n",
    "    let newPosX = (fst pos + fst vel) % aspect_ratio\n",
    "    let newPosY = (snd pos + snd vel) % 1.0\n",
    "    let newPosition = (newPosX, newPosY)\n",
    "    newPosition\n",
    "\n",
    "let newPosAsteroid (asteroid: Asteroid) =\n",
    "    // Función que actualiza la posición de los asteroides\n",
    "    // A los módulos se les adiciona el tamaño del objeto para que la reaparicion ocurra cuando el objeto deja de visualizarse en la pantalla\n",
    "    shiftGeneral asteroid.Pos asteroid.Vel\n",
    "\n",
    "let newPosShip (ship: Ship) =\n",
    "    shiftGeneral ship.Pos ship.Vel"
   ]
  },
  {
   "cell_type": "code",
   "execution_count": null,
   "metadata": {
    "dotnet_interactive": {
     "language": "fsharp"
    },
    "polyglot_notebook": {
     "kernelName": "fsharp"
    }
   },
   "outputs": [],
   "source": [
    "let spawnShip (game: Game) =\n",
    "    // Reestablece el estado de la nave en el juego\n",
    "    let newShip =\n",
    "        { game.Ship with\n",
    "            Pos = (0.5, aspect_ratio/2.0)\n",
    "            Ang = 0.0\n",
    "            Vel = (0.0, 0.0)\n",
    "        }\n",
    "    let newGame = \n",
    "        { game with\n",
    "            Ship = newShip\n",
    "            Alive = true\n",
    "        }\n",
    "    newGame\n"
   ]
  },
  {
   "cell_type": "code",
   "execution_count": 27,
   "metadata": {
    "dotnet_interactive": {
     "language": "fsharp"
    },
    "polyglot_notebook": {
     "kernelName": "fsharp"
    }
   },
   "outputs": [],
   "source": [
    "let shootBullet (ship: Ship) (bullets: List<Bullet>) (input: Input) = \n",
    "    // Agrega una bala a la lista de balas cuando se ejecuta la acción de disparar\n",
    "    let fire (ship: Ship) (bullets: List<Bullet>) =\n",
    "        let newBullet = \n",
    "            {\n",
    "                Pos = (fst ship.Pos + ship.Size*Math.Cos(ship.Ang),\n",
    "                    snd ship.Pos + ship.Size*Math.Sin(ship.Ang))\n",
    "                Ang = ship.Ang\n",
    "                Life = 0.0\n",
    "            }\n",
    "        bullets @ [newBullet]\n",
    "    \n",
    "    match input.Shoot with\n",
    "    | true -> fire ship bullets\n",
    "    | false -> bullets\n"
   ]
  },
  {
   "cell_type": "code",
   "execution_count": 26,
   "metadata": {
    "dotnet_interactive": {
     "language": "fsharp"
    },
    "polyglot_notebook": {
     "kernelName": "fsharp"
    }
   },
   "outputs": [],
   "source": [
    "let deltaAngle (input: Input) = \n",
    "    // Modifica la orientación de la nave en pi/8 si el input así lo indica\n",
    "    let angQuantum = Math.PI/8.0\n",
    "    let newAngle (rotation: Rotation) =\n",
    "        match rotation with\n",
    "        | Positive -> angQuantum\n",
    "        | Negative -> -angQuantum\n",
    "        | None -> 0.0\n",
    "    newAngle input.Rot"
   ]
  },
  {
   "cell_type": "code",
   "execution_count": null,
   "metadata": {
    "dotnet_interactive": {
     "language": "fsharp"
    },
    "polyglot_notebook": {
     "kernelName": "fsharp"
    }
   },
   "outputs": [],
   "source": [
    "// Funciones no finalizadas!\n",
    "let renormalizeVelocity (vel: float*float) = \n",
    "    // Esta función auxiliar sirve para acelerar y cambiar la dirección conservando la velocidad\n",
    "    let (r, theta) = cartesianToPolar vel\n",
    "    let norm = Math.Sqrt ((fst vel)**2 + (snd vel)**2)\n",
    "    let (vx, vy) = vel\n",
    "    (vx * r / norm, vy * r / norm)\n",
    "\n",
    "let tupleAdd (tup1: float*float) (tup2: float*float) =\n",
    "    (fst tup1 + fst tup2, snd tup1 + snd tup2)\n",
    "\n",
    "let accelerateShip (ship: Ship, input: Input) =\n",
    "    let shipMaxVel = 1                      // /(float fps) ?\n",
    "    let shipAcc = 1.0/(float fps)\n",
    "    let shipDesacc = 0.5/(float fps)  // desacelera más lento\n",
    "    let shipMaxVel = 20./(float fps)\n",
    "    \n",
    "    let velocityDelta (ship: Ship) (thrust: bool) =\n",
    "        let (velR, velTheta) = cartesianToPolar ship.Vel\n",
    "        match thrust with\n",
    "        | true -> (shipAcc * Math.Cos(ship.Ang), shipAcc * Math.Sin(ship.Ang))  // Aceleración con orientación al ángulo actual\n",
    "        | false -> (-shipDesacc * Math.Cos(velTheta), -shipDesacc * Math.Sin(velTheta)) // Desaceleración con orientación a la velocidad actual\n",
    "    \n",
    "    let velDelta = velocityDelta ship input.Thrust\n",
    "    let (velR, velTheta) = cartesianToPolar velDelta\n",
    "\n",
    "    let newVelocity =\n",
    "        let velFinalUnnorm = tupleAdd ship.Vel velDelta\n",
    "        match input.Thrust with\n",
    "        | true ->   match cartesianToPolar velFinalUnnorm with\n",
    "                    | (r, _) when r =< shipMaxVel -> velFinalUnnorm\n",
    "                    | (r, _) when r > shipMaxVel  -> velFinalUnnorm |> renormalizeVelocity\n",
    "        | false ->\n",
    "                    match cartesianToPolar velDelta with\n",
    "                    | (r, _) when r = 0  -> (0.0, 0.0)\n",
    "                    | (r, _) when r <= shipMaxVel -> velFinalUnnorm\n",
    "    newVelocity"
   ]
  },
  {
   "cell_type": "code",
   "execution_count": null,
   "metadata": {
    "dotnet_interactive": {
     "language": "fsharp"
    },
    "polyglot_notebook": {
     "kernelName": "fsharp"
    }
   },
   "outputs": [],
   "source": [
    "let updateShip (game: Game) (input: Input) = \n",
    "    let ship = game.Ship\n",
    "    let asts = game.Asteroids\n",
    "    let bulls = game.Bullets\n",
    "\n",
    "    let astShipColls =\n",
    "        asts\n",
    "        |> List.filter (fun x -> checkCollisionBulletAsteroid ship x)\n",
    "    let bullShipColls =\n",
    "        bulls\n",
    "        |> List.filter (fun x -> checkCollsionShipBullet ship x)\n",
    "\n",
    "    let aliveStatus = (astShipColls = [] && bullShipColls = [])\n",
    "    let newVel = accelerateShip ship input\n",
    "    let newPos = newPosShip ship\n",
    "    let newAngle = (ship.Ang + deltaAngle input) % 2*Math.PI\n",
    "    \n",
    "    match aliveStatus with\n",
    "    | true ->   {ship with\n",
    "                    Pos = newPos\n",
    "                    Vel = newVel\n",
    "                    Ang = newAngle}\n",
    "    | false ->  match ship.Lives with\n",
    "                | liv when liv = One || liv = Zero ->   {ship with\n",
    "                                                            Alive = false\n",
    "                                                            Lives = Zero}\n",
    "                | _ ->  {ship with\n",
    "                            Alive = false\n",
    "                            Lives = nextLives ship.Lives}\n",
    "\n",
    "let updateBullets (game: Game) (input: Input) =\n",
    "    let ship = game.Ship\n",
    "    let astList = game.Asteroids\n",
    "    let bullList0 = game.Bullets\n",
    "\n",
    "    shootBullet ship bullList input         // las balas se crean sólo por el jugador\n",
    "    |> List.filter (fun x -> isBullDestroyed x astList = false)         // destrucción de bala por contacto con asteroide\n",
    "    |> List.filter (fun x -> checkCollisionShipBullet ship x && ship.Alive = true)      // destrucción de bala por contacto con ship\n",
    "    |> moveAndClearBullets      // se mueven las balas remanentes y se quitan las que alcanzaron el máximo rango\n",
    "\n",
    "let updateAsteroids (game: Game) =\n",
    "    let ship = game.Ship\n",
    "    let astList0 = game.Asteroids\n",
    "    let bullList = game.Bullets\n",
    "\n",
    "    // separo entre los asteroides destruidos y los que siguen\n",
    "    let astDeadList, astAliveList =\n",
    "        astList0\n",
    "        |> List.partition (fun x -> isAstDestroyed bulls x )\n",
    "\n",
    "    // a los destruidos se les aplica astSplit, que los elimina si son\n",
    "    // de size = small, y los separa en dos más pequeños en caso contrario\n",
    "    let astSplitList =\n",
    "        astDeadList\n",
    "        |> List.collect (fun x -> astSplit x)\n",
    "    \n",
    "    let astList1 = astAliveList @ astSplitList\n",
    "    astList1\n",
    "    |> List.map (fun x -> {x with Pos = newPosAsteroid x})"
   ]
  },
  {
   "cell_type": "code",
   "execution_count": null,
   "metadata": {},
   "outputs": [],
   "source": [
    "let checkLevelFinished (game: Game) =\n",
    "    // chequea si el nivel está terminado \n",
    "    let ship = game.Ship\n",
    "    let asts = game.Asteroids\n",
    "\n",
    "    (asts = [] && ship.Alive = true && ship.Lives != Zero)\n",
    "\n",
    "let checkGameOver (game: Game) = \n",
    "    // chequea game over\n",
    "    let ship = game.ship\n",
    "\n",
    "    (ship.Alive = false && ship.Lives = Zero)"
   ]
  },
  {
   "cell_type": "code",
   "execution_count": null,
   "metadata": {},
   "outputs": [],
   "source": [
    "let spawnAsteroids (num: int) = \n",
    "    // spawn de asteroides al inicio del nivel\n",
    "    // num: cantidad de asteroides a spawnear\n",
    "    let randAst ()=\n",
    "        // genera un asteroide Large random ubicado en los bordes de la pantalla\n",
    "        let x = ((rand.NextDouble() - 0.5)*aspect_ratio/2) % aspect_ratio\n",
    "        let y = ((rand.NextDouble() - 0.5)*1/2) % 1.0\n",
    "        let theta = rand.Next(16) * Math.PI/8\n",
    "        let vel = polarToCartesian (maxAsteroidVel*0.5) theta \n",
    "        {Pos = (x, y), Vel = vel, Size = Large}\n",
    "\n",
    "    List.init num (fun x -> randAst())"
   ]
  }
 ],
 "metadata": {
  "kernelspec": {
   "display_name": ".NET (F#)",
   "language": "F#",
   "name": ".net-fsharp"
  },
  "language_info": {
   "name": "polyglot-notebook"
  },
  "polyglot_notebook": {
   "kernelInfo": {
    "defaultKernelName": "fsharp",
    "items": [
     {
      "aliases": [],
      "languageName": "fsharp",
      "name": "fsharp"
     }
    ]
   }
  }
 },
 "nbformat": 4,
 "nbformat_minor": 2
}
