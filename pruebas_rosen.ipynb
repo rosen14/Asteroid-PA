{
 "cells": [
  {
   "cell_type": "code",
   "execution_count": 1,
   "metadata": {
    "dotnet_interactive": {
     "language": "fsharp"
    },
    "polyglot_notebook": {
     "kernelName": "fsharp"
    }
   },
   "outputs": [],
   "source": [
    "type Size =\n",
    "    | Large\n",
    "    | Medium\n",
    "    | Small\n",
    "    \n",
    "\n",
    "type Lives =\n",
    "    | Three\n",
    "    | Two\n",
    "    | One\n",
    "    | Zero\n",
    "    \n",
    "type Ship = {\n",
    "        Pos: float*float\n",
    "        Vel: float*float\n",
    "        Ang: float\n",
    "        Lives: Lives\n",
    "        Size: float\n",
    "    }\n",
    "\n",
    "type Asteroid = {\n",
    "    Pos: float*float\n",
    "    Vel: float*float\n",
    "    Size: Size\n",
    "    }\n",
    "\n",
    "type Bullet = {\n",
    "    Pos: float*float\n",
    "    Ang: float\n",
    "    Life: float\n",
    "}\n",
    "\n",
    "type Saucer = {\n",
    "    Ypos: float\n",
    "    Dir: bool\n",
    "}\n",
    "\n",
    "type Rotation =\n",
    "    | Positive\n",
    "    | Negative\n",
    "    | None\n",
    "\n",
    "type Input = {\n",
    "    Thrust: bool\n",
    "    Shoot: bool\n",
    "    Rot: Rotation\n",
    "}\n",
    "\n",
    "type Game = {\n",
    "    Ship: Ship\n",
    "    Asteroids: Asteroid list\n",
    "    Bullets: Bullet list\n",
    "    Saucer: Saucer\n",
    "    Score: int\n",
    "}\n",
    "\n",
    "let shipMaxVel = 1\n",
    "let maxBullLife = 1\n",
    "let fps = 1\n",
    "let aspect_ratio = 1.5\n",
    "\n"
   ]
  },
  {
   "cell_type": "code",
   "execution_count": null,
   "metadata": {
    "dotnet_interactive": {
     "language": "fsharp"
    },
    "polyglot_notebook": {
     "kernelName": "fsharp"
    }
   },
   "outputs": [],
   "source": [
    "// check collision between pair of objects\n",
    "let checkColAst_Bull (ast: Ast) (bull: Bullet) : bool =\n",
    "\n",
    "let checkColAst_Ship (ast: Ast) (ship: Ship) : bool =\n",
    "\n",
    "let checkColShip_Bull (ship: Ship) (bull: Bullet) : bool =\n",
    "\n",
    "// kill Asts if collision\n",
    "let updateAst (game: Game) =\n",
    "\n",
    "let updateShip (game: Game) (input: Input) =\n",
    "\n",
    "let updateBull (game: Game) (input: Input) =\n",
    "\n",
    "\n",
    "let moveAst (ast: Ast) =\n",
    "\n",
    "let moveShip (ship: Ship) (input: Input) =\n",
    "\n",
    "let moveBull (bull: Bullet) =\n",
    "\n",
    "\n",
    "let spawnAst =\n",
    "    \n",
    "\n",
    "let spawnShip ="
   ]
  },
  {
   "cell_type": "code",
   "execution_count": 2,
   "metadata": {
    "dotnet_interactive": {
     "language": "fsharp"
    },
    "polyglot_notebook": {
     "kernelName": "fsharp"
    }
   },
   "outputs": [],
   "source": [
    "let sizeMap = Map [(Size.Small, 0.01); (Size.Medium, 0.02); (Size.Large, 0.04)]\n",
    "\n",
    "let checkCollisionShipAsteroid (ship: Ship, asteroid: Asteroid) = \n",
    "    // Devuelve verdadero si hay superposición entre la nave y un asteroide\n",
    "    let distance = Math.Sqrt(Math.Pow((fst asteroid.Pos - fst ship.Pos),2) + Math.Pow((snd asteroid.Pos - snd ship.Pos),2))\n",
    "    let radiiSum = sizeMap[asteroid.Size] + ship.Size\n",
    "    (distance - radiiSum) < 0\n",
    "\n",
    "let checkCollisionShipBullet (ship: Ship, bullet: Bullet) =\n",
    "    // Devuelve verdadero si hay superposición entre la nave y una bala\n",
    "    let distance = Math.Sqrt(Math.Pow((fst bullet.Pos - fst ship.Pos),2) + Math.Pow((snd bullet.Pos - snd ship.Pos),2))\n",
    "    (distance - ship.Size) < 0 //la bala se supone puntual\n",
    "\n"
   ]
  },
  {
   "cell_type": "code",
   "execution_count": 17,
   "metadata": {
    "dotnet_interactive": {
     "language": "fsharp"
    },
    "polyglot_notebook": {
     "kernelName": "fsharp"
    }
   },
   "outputs": [],
   "source": [
    "let bulletsVelocity = 0.1\n",
    "\n",
    "let normalizeValue (x: float, modulo: float) =\n",
    "    // Esta función hace que los objetos que traspasan un borde la pantalla regresen por otro\n",
    "    let rec normalize (x: float, modulo: float) =\n",
    "        if x < 0.0 then\n",
    "            normalize (x + modulo, modulo)\n",
    "        else\n",
    "            x % modulo\n",
    "    normalize (x, modulo)\n",
    "\n",
    "let moveBullet (bullet: Bullet) = \n",
    "    let Vx = -bulletsVelocity*Math.Cos(bullet.Ang)\n",
    "    let Vy = -bulletsVelocity*Math.Sin(bullet.Ang)\n",
    "\n",
    "    let newPosX = normalizeValue((fst bullet.Pos) + Vx/(float fps), aspect_ratio)\n",
    "    let newPosY = normalizeValue((snd bullet.Pos) + Vy/(float fps), 1.0)\n",
    "    let newPosition = (newPosX, newPosY)\n",
    "    \n",
    "    let newLife = bullet.Life + bulletsVelocity/(float fps)\n",
    "\n",
    "    let newBullet = \n",
    "        { bullet with\n",
    "            Pos = newPosition\n",
    "            Life = newLife\n",
    "        }\n",
    "    newBullet\n",
    "\n",
    "let moveAndClearBullets (bullets: List<Bullet>) = \n",
    "    bullets\n",
    "    |> List.map (fun b -> moveBullet(b)) // Actualiza la posición de las balas y contabiliza su recorrido\n",
    "    |> List.filter (fun b -> b.Life <= maxBullLife) // Elimina las balas cuyo recorrido supera el máximo establecido\n"
   ]
  },
  {
   "cell_type": "code",
   "execution_count": 22,
   "metadata": {
    "dotnet_interactive": {
     "language": "fsharp"
    },
    "polyglot_notebook": {
     "kernelName": "fsharp"
    }
   },
   "outputs": [],
   "source": [
    "let moveAsteroid (asteroid: Asteroid) =\n",
    "    // Función que actualiza la posición de los asteroides\n",
    "    // A los módulos se les adiciona el tamaño del objeto para que la reaparicion ocurra cuando el objeto deja de visualizarse en la pantalla\n",
    "    let newPosX = normalizeValue((fst asteroid.Pos) + (fst asteroid.Vel)/(float fps), aspect_ratio + sizeMap[asteroid.Size])\n",
    "    let newPosY = normalizeValue((snd asteroid.Pos) + (snd asteroid.Vel)/(float fps), 1.0 + sizeMap[asteroid.Size])\n",
    "    let newPosition = (newPosX, newPosY)\n",
    "\n",
    "    let newAsteroid = \n",
    "        { asteroid with\n",
    "            Pos = newPosition\n",
    "        }\n",
    "    newAsteroid"
   ]
  },
  {
   "cell_type": "code",
   "execution_count": null,
   "metadata": {
    "dotnet_interactive": {
     "language": "fsharp"
    },
    "polyglot_notebook": {
     "kernelName": "fsharp"
    }
   },
   "outputs": [],
   "source": [
    "let spawnShip game: Game =\n",
    "    // \n",
    "    let newShip =\n",
    "        { game.Ship with\n",
    "            Pos = (0.5, aspect_ratio/2.0)\n",
    "            Ang = 0.0\n",
    "            Vel = (0.0, 0.0)\n",
    "        }\n",
    "    let newGame = \n",
    "        { game with\n",
    "            Ship = newShip\n",
    "        }\n",
    "    newGame\n"
   ]
  }
 ],
 "metadata": {
  "kernelspec": {
   "display_name": ".NET (F#)",
   "language": "F#",
   "name": ".net-fsharp"
  },
  "language_info": {
   "name": "polyglot-notebook"
  },
  "polyglot_notebook": {
   "kernelInfo": {
    "defaultKernelName": "fsharp",
    "items": [
     {
      "aliases": [],
      "languageName": "fsharp",
      "name": "fsharp"
     }
    ]
   }
  }
 },
 "nbformat": 4,
 "nbformat_minor": 2
}
