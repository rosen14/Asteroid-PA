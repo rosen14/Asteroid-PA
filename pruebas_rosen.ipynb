{
 "cells": [
  {
   "cell_type": "code",
   "execution_count": 33,
   "metadata": {
    "dotnet_interactive": {
     "language": "fsharp"
    },
    "polyglot_notebook": {
     "kernelName": "fsharp"
    }
   },
   "outputs": [],
   "source": [
    "type Size =\n",
    "    | Large\n",
    "    | Medium\n",
    "    | Small\n",
    "    \n",
    "\n",
    "type Lives =\n",
    "    | Three\n",
    "    | Two\n",
    "    | One\n",
    "    | Zero\n",
    "    \n",
    "type Ship = {\n",
    "        Pos: float*float\n",
    "        Vel: float*float\n",
    "        Ang: float\n",
    "        Lives: Lives\n",
    "        Size: float\n",
    "    }\n",
    "\n",
    "type Asteroid = {\n",
    "    Pos: float*float\n",
    "    Vel: float*float\n",
    "    Size: Size\n",
    "    }\n",
    "\n",
    "type Bullet = {\n",
    "    Pos: float*float\n",
    "    Ang: float\n",
    "    Life: float\n",
    "}\n",
    "\n",
    "type Saucer = {\n",
    "    Ypos: float\n",
    "    Dir: bool\n",
    "}\n",
    "\n",
    "type Rotation =\n",
    "    | Positive\n",
    "    | Negative\n",
    "    | None\n",
    "\n",
    "type Input = {\n",
    "    Thrust: bool\n",
    "    Shoot: bool\n",
    "    Rot: Rotation\n",
    "}\n",
    "\n",
    "type Game = {\n",
    "    Ship: Ship\n",
    "    Asteroids: Asteroid list\n",
    "    Bullets: Bullet list\n",
    "    Saucer: Saucer\n",
    "    Score: int\n",
    "}\n",
    "\n",
    "let shipMaxVel = 1\n",
    "let maxBullLife = 1\n",
    "let fps = 1\n",
    "let aspect_ratio = 1.5\n",
    "\n"
   ]
  },
  {
   "cell_type": "code",
   "execution_count": null,
   "metadata": {
    "dotnet_interactive": {
     "language": "fsharp"
    },
    "polyglot_notebook": {
     "kernelName": "fsharp"
    }
   },
   "outputs": [],
   "source": [
    "// check collision between pair of objects\n",
    "let checkColAst_Bull (ast: Ast) (bull: Bullet) : bool =\n",
    "\n",
    "let checkColAst_Ship (ast: Ast) (ship: Ship) : bool =\n",
    "\n",
    "let checkColShip_Bull (ship: Ship) (bull: Bullet) : bool =\n",
    "\n",
    "// kill Asts if collision\n",
    "let updateAst (game: Game) =\n",
    "\n",
    "let updateShip (game: Game) (input: Input) =\n",
    "\n",
    "let updateBull (game: Game) (input: Input) =\n",
    "\n",
    "\n",
    "let moveAst (ast: Ast) =\n",
    "\n",
    "let moveShip (ship: Ship) (input: Input) =\n",
    "\n",
    "let moveBull (bull: Bullet) =\n",
    "\n",
    "\n",
    "let spawnAst =\n",
    "    \n",
    "\n",
    "let spawnShip ="
   ]
  },
  {
   "cell_type": "code",
   "execution_count": 2,
   "metadata": {
    "dotnet_interactive": {
     "language": "fsharp"
    },
    "polyglot_notebook": {
     "kernelName": "fsharp"
    }
   },
   "outputs": [],
   "source": [
    "let sizeMap = Map [(Size.Small, 0.01); (Size.Medium, 0.02); (Size.Large, 0.04)]\n",
    "\n",
    "let checkCollisionShipAsteroid (ship: Ship, asteroid: Asteroid) = \n",
    "    // Devuelve verdadero si hay superposición entre la nave y un asteroide\n",
    "    let distance = Math.Sqrt(Math.Pow((fst asteroid.Pos - fst ship.Pos),2) + Math.Pow((snd asteroid.Pos - snd ship.Pos),2))\n",
    "    let radiiSum = sizeMap[asteroid.Size] + ship.Size\n",
    "    (distance - radiiSum) < 0\n",
    "\n",
    "let checkCollisionShipBullet (ship: Ship, bullet: Bullet) =\n",
    "    // Devuelve verdadero si hay superposición entre la nave y una bala\n",
    "    let distance = Math.Sqrt(Math.Pow((fst bullet.Pos - fst ship.Pos),2) + Math.Pow((snd bullet.Pos - snd ship.Pos),2))\n",
    "    (distance - ship.Size) < 0 //la bala se supone puntual\n",
    "\n"
   ]
  },
  {
   "cell_type": "code",
   "execution_count": 17,
   "metadata": {
    "dotnet_interactive": {
     "language": "fsharp"
    },
    "polyglot_notebook": {
     "kernelName": "fsharp"
    }
   },
   "outputs": [],
   "source": [
    "let bulletsVelocity = 0.1\n",
    "\n",
    "let normalizeValue (x: float, modulo: float) =\n",
    "    // Esta función hace que los objetos que traspasan un borde la pantalla regresen por otro\n",
    "    let rec normalize (x: float, modulo: float) =\n",
    "        if x < 0.0 then\n",
    "            normalize (x + modulo, modulo)\n",
    "        else\n",
    "            x % modulo\n",
    "    normalize (x, modulo)\n",
    "\n",
    "let moveBullet (bullet: Bullet) = \n",
    "    let Vx = -bulletsVelocity*Math.Cos(bullet.Ang)\n",
    "    let Vy = -bulletsVelocity*Math.Sin(bullet.Ang)\n",
    "\n",
    "    let newPosX = normalizeValue((fst bullet.Pos) + Vx/(float fps), aspect_ratio)\n",
    "    let newPosY = normalizeValue((snd bullet.Pos) + Vy/(float fps), 1.0)\n",
    "    let newPosition = (newPosX, newPosY)\n",
    "    \n",
    "    let newLife = bullet.Life + bulletsVelocity/(float fps)\n",
    "\n",
    "    let newBullet = \n",
    "        { bullet with\n",
    "            Pos = newPosition\n",
    "            Life = newLife\n",
    "        }\n",
    "    newBullet\n",
    "\n",
    "let moveAndClearBullets (bullets: List<Bullet>) = \n",
    "    bullets\n",
    "    |> List.map (fun b -> moveBullet(b)) // Actualiza la posición de las balas y contabiliza su recorrido\n",
    "    |> List.filter (fun b -> b.Life <= maxBullLife) // Elimina las balas cuyo recorrido supera el máximo establecido\n"
   ]
  },
  {
   "cell_type": "code",
   "execution_count": 22,
   "metadata": {
    "dotnet_interactive": {
     "language": "fsharp"
    },
    "polyglot_notebook": {
     "kernelName": "fsharp"
    }
   },
   "outputs": [],
   "source": [
    "let moveAsteroid (asteroid: Asteroid) =\n",
    "    // Función que actualiza la posición de los asteroides\n",
    "    // A los módulos se les adiciona el tamaño del objeto para que la reaparicion ocurra cuando el objeto deja de visualizarse en la pantalla\n",
    "    let newPosX = normalizeValue((fst asteroid.Pos) + (fst asteroid.Vel)/(float fps), aspect_ratio + sizeMap[asteroid.Size])\n",
    "    let newPosY = normalizeValue((snd asteroid.Pos) + (snd asteroid.Vel)/(float fps), 1.0 + sizeMap[asteroid.Size])\n",
    "    let newPosition = (newPosX, newPosY)\n",
    "\n",
    "    let newAsteroid = \n",
    "        { asteroid with\n",
    "            Pos = newPosition\n",
    "        }\n",
    "    newAsteroid"
   ]
  },
  {
   "cell_type": "code",
   "execution_count": null,
   "metadata": {
    "dotnet_interactive": {
     "language": "fsharp"
    },
    "polyglot_notebook": {
     "kernelName": "fsharp"
    }
   },
   "outputs": [],
   "source": [
    "let spawnShip game: Game =\n",
    "    // Reestablece el estado de la nave en el juego\n",
    "    let newShip =\n",
    "        { game.Ship with\n",
    "            Pos = (0.5, aspect_ratio/2.0)\n",
    "            Ang = 0.0\n",
    "            Vel = (0.0, 0.0)\n",
    "        }\n",
    "    let newGame = \n",
    "        { game with\n",
    "            Ship = newShip\n",
    "        }\n",
    "    newGame\n"
   ]
  },
  {
   "cell_type": "code",
   "execution_count": 27,
   "metadata": {
    "dotnet_interactive": {
     "language": "fsharp"
    },
    "polyglot_notebook": {
     "kernelName": "fsharp"
    }
   },
   "outputs": [],
   "source": [
    "let shootBullet (ship: Ship, bullets: List<Bullet>, input: Input) = \n",
    "    // Agrega una bala a la lista de balas cuando se ejecuta la acción de disparar\n",
    "    let fire (ship: Ship, bullets: List<Bullet>) =\n",
    "        let newBullet = \n",
    "            {\n",
    "                Pos = (fst ship.Pos - ship.Size*Math.Cos(ship.Ang),\n",
    "                    snd ship.Pos - ship.Size*Math.Sin(ship.Ang))\n",
    "                Ang = ship.Ang\n",
    "                Life = 0.0\n",
    "            }\n",
    "        bullets\n",
    "        |> List.append [newBullet]\n",
    "    \n",
    "    match input.Shoot with\n",
    "    | true -> fire (ship, bullets)\n",
    "    | false -> bullets\n"
   ]
  },
  {
   "cell_type": "code",
   "execution_count": 26,
   "metadata": {
    "dotnet_interactive": {
     "language": "fsharp"
    },
    "polyglot_notebook": {
     "kernelName": "fsharp"
    }
   },
   "outputs": [],
   "source": [
    "let rotateShip (ship: Ship, input: Input) = \n",
    "    // Modifica la orientación de la nave en 5° si el input así lo indica\n",
    "    let newAngle (rotation: Rotation) =\n",
    "        match rotation with\n",
    "        | Positive -> 5.0 * Math.PI/180.0\n",
    "        | Negative -> -5.0 * Math.PI/180.0\n",
    "        | None -> 0.0\n",
    "\n",
    "    let newShip =\n",
    "        { ship with\n",
    "            Ang = newAngle(input.Rot)\n",
    "        }\n",
    "    newShip"
   ]
  },
  {
   "cell_type": "code",
   "execution_count": 44,
   "metadata": {
    "dotnet_interactive": {
     "language": "fsharp"
    },
    "polyglot_notebook": {
     "kernelName": "fsharp"
    }
   },
   "outputs": [
    {
     "name": "stderr",
     "output_type": "stream",
     "text": [
      "Stopped due to error\n"
     ]
    },
    {
     "ename": "Error",
     "evalue": "input.fsx (17,24)-(17,31) typecheck error The type 'Ship' does not define the field, constructor or member 'Velship'. Maybe you want one of the following:\r\n   Vel",
     "output_type": "error",
     "traceback": [
      "input.fsx (17,24)-(17,31) typecheck error The type 'Ship' does not define the field, constructor or member 'Velship'. Maybe you want one of the following:\r\n",
      "   Vel"
     ]
    }
   ],
   "source": [
    "let shipAcc = 1.0/(float fps)\n",
    "\n",
    "let cartesianToPolar (x: float, y: float) =\n",
    "    let r = Math.Sqrt(x**2 + y**2)\n",
    "    let theta = Math.PI/2.0 - Math.Atan2 (y, x) // REVISAR!\n",
    "    r, theta\n",
    "\n",
    "\n",
    "// Funciones no finalizadas!\n",
    "let capVelocity(ship: Ship) = \n",
    "    //\n",
    "\n",
    "let accelerateShip (ship: Ship, input: Input) =\n",
    "    let velocityDelta (ship: Ship, thrust: bool) =\n",
    "        let (velR, velTheta) = cartesianToPolar(fst ship.Vel, snd ship.Vel)\n",
    "        match thrust with\n",
    "        | true -> (-shipAcc*Math.Cos(ship.Ang), -shipAcc*Math.Sin(ship.Ang))  // Aceleración con orientación al ángulo actual\n",
    "        | false -> (+shipAcc*Math.Cos(velTheta), +shipAcc*Math.Sin(velTheta)) // Desaceleración con orientación a la velocidad actual\n",
    "    \n",
    "    let velDelta = velocityDelta(ship, thrust)\n",
    "\n",
    "    let newVelocity =\n",
    "        match cartesianToPolar(velDelta) with\n",
    "        | (r, theta) when r > 0 && r < shipMaxVel -> (fst ship.Vel + fst velDelta, snd ship.Vel + snd velDelta)\n",
    "        | (r, theta) when r <= 0  -> (0.0, 0.0)\n",
    "        | (r, theta) when r >= shipMaxVel  -> (fst ship.Vel + fst velDelta, snd ship.Vel + snd velDelta)\n",
    "\n",
    "    let newShip =\n",
    "        { ship with\n",
    "            Vel = (fst ship.Vel + fst velPlus, snd ship.Vel + snd velPlus)\n",
    "        } \n",
    "        \n",
    "    newShip"
   ]
  }
 ],
 "metadata": {
  "kernelspec": {
   "display_name": ".NET (F#)",
   "language": "F#",
   "name": ".net-fsharp"
  },
  "language_info": {
   "name": "polyglot-notebook"
  },
  "polyglot_notebook": {
   "kernelInfo": {
    "defaultKernelName": "fsharp",
    "items": [
     {
      "aliases": [],
      "languageName": "fsharp",
      "name": "fsharp"
     }
    ]
   }
  }
 },
 "nbformat": 4,
 "nbformat_minor": 2
}
